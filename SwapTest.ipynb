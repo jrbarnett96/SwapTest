{
 "cells": [
  {
   "cell_type": "markdown",
   "metadata": {},
   "source": [
    "# Introduction"
   ]
  },
  {
   "cell_type": "markdown",
   "metadata": {},
   "source": [
    "In this notebook we explore the usage of the swap test to approximate an unknown quantum state. We begin with a brief discussion on single-qubit state creation. We then implement the swap test for approximating a single-qubit. We finish with an extension of the swap test to product states. \n",
    "\n",
    "Note: qiskit be throwing deprecation warnings all over the place. I'll do my best to suppress them, but I'm sure some will slip through. My apologies. "
   ]
  },
  {
   "cell_type": "markdown",
   "metadata": {},
   "source": [
    "# Imports"
   ]
  },
  {
   "cell_type": "code",
   "execution_count": null,
   "metadata": {},
   "outputs": [],
   "source": [
    "import warnings\n",
    "warnings.filterwarnings('ignore', category=DeprecationWarning)\n",
    "from math import pi\n",
    "from random import uniform\n",
    "\n",
    "from qiskit import Aer, QuantumCircuit, execute\n",
    "from qutip import Bloch, Qobj\n",
    "\n",
    "import numpy as np"
   ]
  },
  {
   "cell_type": "markdown",
   "metadata": {},
   "source": [
    "# Part 1 - Generating quantum states"
   ]
  },
  {
   "cell_type": "markdown",
   "metadata": {},
   "source": [
    "To begin, we verify that Qiskit's quantum gate set can generate any single-qubit state starting from |0>. We do this with a u-gate, specified by angles theta and phi. \n",
    "\n",
    "The u-gate can be further broken down into a theta rotation about the x-axis of the Bloch sphere followed by a phi-rotation about the z-axis."
   ]
  },
  {
   "cell_type": "code",
   "execution_count": null,
   "metadata": {},
   "outputs": [],
   "source": [
    "### Verification - Does the u-gate cover the Bloch sphere? ###\n",
    "# Code source: http://qutip.org/docs/latest/guide/guide-bloch.html#animating-with-the-bloch-sphere\n",
    "import matplotlib.animation as animation\n",
    "import numpy as np\n",
    "from mpl_toolkits.mplot3d import Axes3D\n",
    "from matplotlib.pyplot import figure\n",
    "%matplotlib inline\n",
    "\n",
    "fig = figure()\n",
    "ax = Axes3D(fig,azim=-40,elev=30)\n",
    "sphere = Bloch(axes=ax)\n",
    "sphere.point_color = ['b']\n",
    "sphere.point_marker = ['o']\n",
    "sphere.point_size = [20, 27, 30, 40]\n",
    "sphere.zlpos = [1.5, -1.5]\n",
    "sphere.xlpos = [1.5, -1.5]\n",
    "\n",
    "   \n",
    "def animate(i, num_iters, backend):\n",
    "    states = []\n",
    "    for j in range(num_iters):\n",
    "        qc = QuantumCircuit(1)\n",
    "        qc.u(pi*(i/num_iters), 2*pi*(j/num_iters), 0, 0)\n",
    "        states.append(Qobj(execute(qc, backend).result().get_statevector()))\n",
    "    sphere.add_states(states, kind='point')\n",
    "    sphere.make_sphere()\n",
    "    return ax\n",
    "\n",
    "num_iters = 30\n",
    "ani = animation.FuncAnimation(fig, animate, fargs=(num_iters, Aer.get_backend('statevector_simulator')), frames=np.arange(num_iters))\n",
    "ani.save('bloch_sphere.mp4', fps=15)"
   ]
  },
  {
   "cell_type": "markdown",
   "metadata": {},
   "source": [
    "Alright, cool, just wanted to make sure. Next up, let's introduce the swap test circuit."
   ]
  },
  {
   "cell_type": "markdown",
   "metadata": {},
   "source": [
    "# Part 2 - Swap test implementation, state approximation"
   ]
  },
  {
   "cell_type": "markdown",
   "metadata": {},
   "source": [
    "Below is the circuit diagram for state creation along with the swap test proper."
   ]
  },
  {
   "cell_type": "code",
   "execution_count": null,
   "metadata": {},
   "outputs": [],
   "source": [
    "### Swap test ###\n",
    "\n",
    "from qiskit.circuit import Parameter\n",
    "\n",
    "theta1 = Parameter('t1')\n",
    "phi1 = Parameter('p1')\n",
    "theta2 = Parameter('t2')\n",
    "phi2 = Parameter('p2')\n",
    "\n",
    "qc = QuantumCircuit(3, 1) # 1 classical register to store the test result\n",
    "qc.u(theta1, phi1, 0, 1)\n",
    "qc.u(theta2, phi2, 0, 2)\n",
    "qc.barrier()\n",
    "qc.h(0)\n",
    "qc.cswap(0, 1, 2)\n",
    "qc.h(0)\n",
    "qc.measure(0, 0)\n",
    "qc.draw()"
   ]
  },
  {
   "cell_type": "markdown",
   "metadata": {},
   "source": [
    "This circuit is parametrized by four angles; two represent the target state, the other two the initial state. In our optimization procedure, we set the target state parameters at the start and vary the initial state parameters until the inner product is close to 1. "
   ]
  },
  {
   "cell_type": "code",
   "execution_count": null,
   "metadata": {},
   "outputs": [],
   "source": [
    "def angles2amplitude(state):\n",
    "    ''' Convert the (theta, phi) representation to the amplitude representation. '''\n",
    "    qc = QuantumCircuit(1)\n",
    "    qc.u(state[0], state[1], 0, 0)\n",
    "    backend = Aer.get_backend('statevector_simulator')\n",
    "    job = execute(qc, backend)\n",
    "    result = job.result()\n",
    "    return result.get_statevector()\n",
    "\n",
    "def amplitude2angles(state):\n",
    "    return\n",
    "\n",
    "def swap_test(state1, state2, backend, num_shots=1024):\n",
    "    qc = QuantumCircuit(3, 1)\n",
    "    qc.h(0)\n",
    "    qc.u(state1[0], state1[1], 0, 1)\n",
    "    qc.u(state2[0], state2[1], 0, 2)\n",
    "    qc.cswap(0, 1, 2)\n",
    "    qc.h(0)\n",
    "    qc.measure(0, 0)\n",
    "        \n",
    "    job = execute(qc, backend, shots=num_shots)\n",
    "    counts = job.result().get_counts()\n",
    "    if '1' in counts:\n",
    "        return counts['1']\n",
    "    else:\n",
    "        return 0\n",
    "    \n",
    "def inner_product_approx(state1, state2, backend, num_shots=1024):\n",
    "    ''' Returns an approximation to the inner product of states given by their Bloch angles. '''\n",
    "    counts = swap_test(state1, state2, backend, num_shots)\n",
    "    return 1 - ((2 / num_shots)*counts)"
   ]
  },
  {
   "cell_type": "markdown",
   "metadata": {},
   "source": [
    "If we were only comparing |0>'s and |1>'s, we could get away with a simpler use of the swap test, declaring the states distinct the moment a 1 appears in our measurement results. For comparing arbitrary qubits, we want to have a little more direction for our optimizer. If the states are different, how different are they?\n",
    "\n",
    "We use the approxInnerProduct function to give an estimate of the inner product from repeated measurements of the swap circuit, but how many repeats are necessary to get a good enough result? Below we plot convergence properties for this function with a variety of states. As a future improvement, I would like to give a more careful coverage of possible states, but I think this is a good start. "
   ]
  },
  {
   "cell_type": "code",
   "execution_count": null,
   "metadata": {},
   "outputs": [],
   "source": [
    "warnings.filterwarnings('ignore', category=DeprecationWarning)\n",
    "import matplotlib.pyplot as plt\n",
    "\n",
    "def inner_product_exact(state1, state2):\n",
    "    state1 = angles2amplitude(state1)\n",
    "    state2 = angles2amplitude(state2)\n",
    "    return np.abs(np.dot(np.conjugate(state1), state2))**2\n",
    "    \n",
    "def swap_test_convergence(state1, state2, backend, max_shots=2**11, num_samples=100, num_trials=10):\n",
    "    ipe = inner_product_exact(state1, state2)\n",
    "    shots = []\n",
    "    xrange = np.geomspace(1, max_shots, num_samples)\n",
    "    for x in xrange:\n",
    "        trial_results = []\n",
    "        for i in range(num_trials):\n",
    "            trial_results.append(inner_product_approx(state1, state2, backend, num_shots=x))\n",
    "        shots.append(trial_results)\n",
    "    return ipe, xrange, np.array(shots)"
   ]
  },
  {
   "cell_type": "markdown",
   "metadata": {},
   "source": [
    "Next comes the challenge. Given a randomly generated single-qubit quantum state, I want to replicate it in a fresh state of my own. I'm assuming I have a lot of copies of this unknown state on hand, because the swap test needs to be made more than once to get any degree of certainty. \n",
    "\n",
    "By making multiple runs of the swap test we can approximate the inner product of the two states. This inner product will be used as a cost function for our optimizer, which will tune the (theta, phi) parameters of our input state until we reach the target state. \n",
    "\n",
    "We're making the assumption that we don't know the parameters of the generated quantum state. If the parameters were known, we would have a closed form expression for the cost function and could use some form of gradient descent to find the desired parameters. Without it, we have to resort to any kind of minimizing procedure (like annealing). With the framework in place below we'll be in a position to tune our optimizer and our hyperparameters. "
   ]
  },
  {
   "cell_type": "code",
   "execution_count": null,
   "metadata": {},
   "outputs": [],
   "source": [
    "### Approximating a single-qubit quantum state\n",
    "\n",
    "from scipy.optimize import brute, differential_evolution, shgo, dual_annealing\n",
    "from qiskit.visualization import plot_bloch_vector, plot_bloch_multivector\n",
    "\n",
    "# I like the idea of slowing down to approach the point\n",
    "# Listen, the inner product with fluctuate, but hopefully with enough iterations of swap, this won't be too much\n",
    "# of a problem\n",
    "\n",
    "def cost(init_state, *args):\n",
    "    return -1*inner_product_approx(init_state, args[0], args[1], args[2])\n",
    "\n",
    "backend = Aer.get_backend('qasm_simulator')\n",
    "initial_state = [0, 0] # CHANGEME\n",
    "target_state = [uniform(0, pi), uniform(0, 2*pi)] # CHANGEME\n",
    "\n",
    "### Brute force minimization ###\n",
    "\n",
    "parameter_range = ((0, pi), (0, 2*pi))\n",
    "approx_state_brute = brute(cost, parameter_range, (target_state, backend, 1024), Ns=50)\n",
    "print(\"Target state was theta = \" + str(target_state[0]) + \", phi = \" + str(target_state[1]))\n",
    "print(\"State minimising cost: theta = \" + str(approx_state_brute[0]) + \", phi = \" + str(approx_state_brute[1]))\n",
    "\n",
    "### Differential evolution ###\n",
    "\n",
    "\n",
    "\n",
    "### SHG ###\n",
    "\n",
    "approx_state_shg = shgo(cost, parameter_range, (target_state, backend, 1024))\n",
    "approx_state_shg = approx_state_shg.x\n",
    "print(\"SHG output: theta = \" + str(approx_state_shg[0]) + \", phi = \" + str(approx_state_shg[1]))\n",
    "\n",
    "### Dual annealing ###\n",
    "\n",
    "\n",
    "### Basic minimisation ###\n",
    "\n",
    "\n",
    "\n",
    "\n",
    "# approx_state_da = dual_annealing(cost, parameter_range, (target_state, backend, 1024))\n"
   ]
  },
  {
   "cell_type": "markdown",
   "metadata": {},
   "source": [
    "# Part 3 - Using the swap test for multiple-qubit states "
   ]
  },
  {
   "cell_type": "markdown",
   "metadata": {},
   "source": [
    "With the single-qubit case out of the way, we next turn to what ends up being a simpler problem. Consider a multi-qubit state, but take out all the complexity: a product state where all the qubits are either |0> or |1>, like |01001>. Kind of like a quantum bit string. \n",
    "\n",
    "If we're given a state like this and asked to match it, we don't have to deal with the optimizing procedure used above. Look at it in a qubit-by-qubit fashion, and consider the first qubit of our target state. If the first qubit of our initial state matches the target qubit, we will never measure 1 off the ancilla qubit (assuming a perfect quantum computer, but let's not go into the weeds here). If they don't match, we'll eventually get a 1, and we modify our qubit to match. \n",
    "\n",
    "That's a lot of words to say that we can just iterate through the qubits in our initial state, using grid search until we achieve a perfect match. "
   ]
  },
  {
   "cell_type": "code",
   "execution_count": null,
   "metadata": {},
   "outputs": [],
   "source": [
    "### Constructing a better swap circuit ###\n",
    "\n",
    "state_size = 5\n",
    "qc = QuantumCircuit(2*state_size + 1, 1)\n",
    "qc.h(0)\n",
    "for i in range(1, state_size + 1):\n",
    "    qc.cswap(0, i, i + state_size)\n",
    "qc.h(0)\n",
    "qc.measure(0, 0)\n",
    "qc.draw()"
   ]
  },
  {
   "cell_type": "markdown",
   "metadata": {},
   "source": [
    "This circuit performs the same function as in the single-qubit case, except we now apply a controlled-swap gate on a qubit-by-qubit basis. If you compute the measurement probabilities for the ancilla qubit, you'll find the same expression as the single-qubit swap test.\n",
    "\n",
    "Since we're dealing with a simple kind of product state, brute force is more valid option here. We search through all possible bit strings until we find a match. If our swap test returns a 1 in N runs of the swap test circuit, we'll know that one of the qubits is incorrectly set. There's a vanishingly small chance that the swap test will return a 0 for several thousand runs."
   ]
  },
  {
   "cell_type": "code",
   "execution_count": null,
   "metadata": {},
   "outputs": [],
   "source": [
    "warnings.filterwarnings('ignore', category=DeprecationWarning)\n",
    "import numpy as np\n",
    "from qiskit import QuantumRegister, ClassicalRegister\n",
    "from itertools import product\n",
    "\n",
    "initial_state = (0, 0, 0, 0)\n",
    "target_state  = (1, 1, 0, 1)\n",
    "\n",
    "def bitlist2int(bit_list):\n",
    "    s = map(str, bit_list)\n",
    "    s = ''.join(s)\n",
    "    return int(s, base=2)\n",
    "\n",
    "# Swap test for multiple qubits\n",
    "def swap_test_mq(state1, state2, backend, num_shots=1024):\n",
    "    n = len(state1)\n",
    "    q = QuantumRegister(2*n+1)\n",
    "    c = ClassicalRegister(1)\n",
    "    qc = QuantumCircuit(q, c)\n",
    "    \n",
    "    state1_reg = np.zeros(2**n)\n",
    "    state1_reg[bitlist2int(state1)] = 1\n",
    "    state2_reg = np.zeros(2**n)\n",
    "    state2_reg[bitlist2int(state2)] = 1\n",
    "    \n",
    "    qc.initialize(state1_reg, q[1:n+1])\n",
    "    qc.initialize(state2_reg, q[n+1:])\n",
    "    qc.h(0)\n",
    "    for i in range(1, n+1):\n",
    "        qc.cswap(0, i, i+n)\n",
    "    qc.h(0)\n",
    "    qc.measure(0, 0)\n",
    "    \n",
    "    job = execute(qc, backend, shots=num_shots)\n",
    "    counts = job.result().get_counts()\n",
    "    if '1' in counts:\n",
    "        return (counts['1'] != 0)\n",
    "    else:\n",
    "        return 0\n",
    "\n",
    "qasm_backend = Aer.get_backend('qasm_simulator')\n",
    "num_shots=128\n",
    "def grid_search(target_state, backend, num_shots):\n",
    "    bitstrings = product([0, 1], repeat=len(target_state))\n",
    "    for state in bitstrings:\n",
    "        if swap_test_mq(state, target_state, backend, num_shots) == 0:\n",
    "            return state\n",
    "    return \"Sorry nothing\"\n",
    "\n",
    "grid_search((1, 1, 1, 1), qasm_backend, num_shots=128)"
   ]
  }
 ],
 "metadata": {
  "kernelspec": {
   "display_name": "Python 3",
   "language": "python",
   "name": "python3"
  },
  "language_info": {
   "codemirror_mode": {
    "name": "ipython",
    "version": 3
   },
   "file_extension": ".py",
   "mimetype": "text/x-python",
   "name": "python",
   "nbconvert_exporter": "python",
   "pygments_lexer": "ipython3",
   "version": "3.9.1"
  }
 },
 "nbformat": 4,
 "nbformat_minor": 4
}
